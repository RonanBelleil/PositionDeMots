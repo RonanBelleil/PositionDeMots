{
 "cells": [
  {
   "cell_type": "code",
   "execution_count": 1,
   "metadata": {},
   "outputs": [],
   "source": [
    "import pandas as pd\n",
    "import numpy as np\n",
    "from itertools import chain, combinations\n",
    "\n",
    "from sklearn.model_selection import cross_val_score\n",
    "import sklearn.model_selection\n",
    "from sklearn import svm\n",
    "import sklearn.metrics\n",
    "from sklearn.model_selection import train_test_split"
   ]
  },
  {
   "cell_type": "code",
   "execution_count": 2,
   "metadata": {},
   "outputs": [],
   "source": [
    "# Transforme une liste de fichiers en dictionnaire de fichiers avec les même proportion d'embbeddings\n",
    "def listToDicSameProp(lst):\n",
    "    return {elt: 1./len(lst) for elt in lst}\n",
    "\n",
    "# Créer toute les combinaisons\n",
    "def listToDicCombiSameProp(lst, minLen=1, maxLen=-1):\n",
    "    if maxLen == -1:\n",
    "        maxLen = len(lst)\n",
    "    return [listToDicSameProp(x) for x in chain.from_iterable(combinations(lst, r) for r in range(minLen, maxLen+1))]\n",
    "\n",
    "# Fusion de listes\n",
    "def listMerge2(lst1, lst2, prop1):\n",
    "    return [{elt1: prop1, elt2: 1.-prop1} for elt1 in lst1 for elt2 in lst2]\n",
    "\n",
    "def eltsGradient(elt1, elt2):\n",
    "    return [{elt1: x, elt2: 1.-x} for x in np.arange(.1, 1., 0.1)]"
   ]
  },
  {
   "cell_type": "code",
   "execution_count": 9,
   "metadata": {
    "scrolled": false
   },
   "outputs": [
    {
     "data": {
      "text/plain": [
       "[{'messages_equilibre_ok.npy': 1.0}]"
      ]
     },
     "execution_count": 9,
     "metadata": {},
     "output_type": "execute_result"
    }
   ],
   "source": [
    "# Liste des tests a effectuer\n",
    "# Pour chaque test : un dictionnaire fichier embbedding -> ratio de ce fichier\n",
    "filenamesLists = [{\"messages_equilibre_ok.npy\": 1.}]\n",
    "filenamesLists"
   ]
  },
  {
   "cell_type": "code",
   "execution_count": 10,
   "metadata": {},
   "outputs": [],
   "source": [
    "def testEmbd(filenames):\n",
    "    # Chargement des données\n",
    "    X = np.ndarray((0,0))\n",
    "    y = []\n",
    "    for embdFile, proportion in filenames.items():\n",
    "        dataFile = np.load(embdFile, allow_pickle=True)\n",
    "        if len(X) == 0:\n",
    "            X = proportion*dataFile\n",
    "        else:\n",
    "            X += proportion*dataFile\n",
    "    y = np.load(\"label.npy\")\n",
    "\n",
    "    # Tests\n",
    "    cv = sklearn.model_selection.ShuffleSplit(n_splits=10, test_size=0.3, random_state=0)\n",
    "    clf = svm.SVC(kernel='rbf', C=1, random_state=42)\n",
    "    results = cross_val_score(clf, X, y, cv=cv, scoring=\"f1\")\n",
    "    print(\"F-score de la validation croisée : \", results)\n",
    "    print(\"Moyenne des F-score\", np.mean(results))\n",
    "    return np.mean(results)"
   ]
  },
  {
   "cell_type": "code",
   "execution_count": 11,
   "metadata": {
    "scrolled": false
   },
   "outputs": [
    {
     "name": "stdout",
     "output_type": "stream",
     "text": [
      "F-score de la validation croisée :  [0.88778055 0.84634761 0.86893204 0.8973747  0.87       0.86436782\n",
      " 0.85714286 0.86934673 0.85714286 0.87407407]\n",
      "Moyenne des F-score 0.8692509234307005\n"
     ]
    },
    {
     "data": {
      "text/plain": [
       "{\"{'messages_equilibre_ok.npy': 1.0}\": 0.8692509234307005}"
      ]
     },
     "execution_count": 11,
     "metadata": {},
     "output_type": "execute_result"
    }
   ],
   "source": [
    "resultsGlobal = {str(filenames): testEmbd(filenames) for filenames in filenamesLists}\n",
    "resultsGlobal"
   ]
  },
  {
   "cell_type": "code",
   "execution_count": null,
   "metadata": {},
   "outputs": [],
   "source": []
  }
 ],
 "metadata": {
  "kernelspec": {
   "display_name": "Python 3 (ipykernel)",
   "language": "python",
   "name": "python3"
  },
  "language_info": {
   "codemirror_mode": {
    "name": "ipython",
    "version": 3
   },
   "file_extension": ".py",
   "mimetype": "text/x-python",
   "name": "python",
   "nbconvert_exporter": "python",
   "pygments_lexer": "ipython3",
   "version": "3.9.7"
  }
 },
 "nbformat": 4,
 "nbformat_minor": 4
}
